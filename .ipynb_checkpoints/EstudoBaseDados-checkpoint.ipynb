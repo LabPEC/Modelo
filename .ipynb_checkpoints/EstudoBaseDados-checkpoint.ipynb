{
 "cells": [
  {
   "cell_type": "markdown",
   "metadata": {},
   "source": [
    "**Projeto MODELO**\n",
    "\n",
    "\n",
    "*This notebook contains an inicial example code used to look at datasets given by Modelo dataset*"
   ]
  },
  {
   "cell_type": "markdown",
   "metadata": {},
   "source": [
    "# Setup"
   ]
  },
  {
   "cell_type": "markdown",
   "metadata": {},
   "source": [
    "First, let's import a few common modules, ensure MatplotLib plots figures inline and prepare a function to save the figures. We also check that Python 3.5 or later is installed (although Python 2.x may work, it is deprecated so we strongly recommend you use Python 3 instead), as well as Scikit-Learn ≥0.20."
   ]
  },
  {
   "cell_type": "code",
   "execution_count": 1,
   "metadata": {},
   "outputs": [],
   "source": [
    "# Python ≥3.5 is required\n",
    "import sys\n",
    "assert sys.version_info >= (3, 5)\n",
    "\n",
    "# Scikit-Learn ≥0.20 is required\n",
    "import sklearn\n",
    "assert sklearn.__version__ >= \"0.20\"\n",
    "\n",
    "# Common imports\n",
    "import numpy as np\n",
    "import os\n",
    "\n",
    "# To plot pretty figures\n",
    "%matplotlib inline\n",
    "import matplotlib as mpl\n",
    "import matplotlib.pyplot as plt\n",
    "mpl.rc('axes', labelsize=14)\n",
    "mpl.rc('xtick', labelsize=12)\n",
    "mpl.rc('ytick', labelsize=12)\n",
    "\n",
    "# Where to save the figures\n",
    "PROJECT_ROOT_DIR = \".\"\n",
    "CHAPTER_ID = \"AnaliseExploratoria\"\n",
    "IMAGES_PATH = os.path.join(PROJECT_ROOT_DIR, \"images\", CHAPTER_ID)\n",
    "os.makedirs(IMAGES_PATH, exist_ok=True)\n",
    "\n",
    "def save_fig(fig_id, tight_layout=True, fig_extension=\"png\", resolution=300):\n",
    "    path = os.path.join(IMAGES_PATH, fig_id + \".\" + fig_extension)\n",
    "    print(\"Saving figure\", fig_id)\n",
    "    if tight_layout:\n",
    "        plt.tight_layout()\n",
    "    plt.savefig(path, format=fig_extension, dpi=resolution)"
   ]
  },
  {
   "cell_type": "markdown",
   "metadata": {},
   "source": [
    "# Get the Data"
   ]
  },
  {
   "cell_type": "code",
   "execution_count": 2,
   "metadata": {},
   "outputs": [],
   "source": [
    "import os\n",
    "import tarfile\n",
    "\n",
    "DATA_PATH = os.path.join(\"datasets\", \"Modelo\")\n",
    "\n",
    "def fetch_data(data_path=DATA_PATH):\n",
    "    if not os.path.isdir(data_path):\n",
    "        os.makedirs(data_path)\n",
    "    tgz_path = os.path.join(data_path, \"Modelo_2023_Ver01.csv.tar.gz\")\n",
    "    data_tgz = tarfile.open(tgz_path)\n",
    "    data_tgz.extractall(path=data_path)\n",
    "    data_tgz.close()\n",
    "    "
   ]
  },
  {
   "cell_type": "code",
   "execution_count": 3,
   "metadata": {},
   "outputs": [],
   "source": [
    "fetch_data()"
   ]
  },
  {
   "cell_type": "code",
   "execution_count": 4,
   "metadata": {},
   "outputs": [],
   "source": [
    "import pandas as pd\n",
    "\n",
    "def load_data(data_path=DATA_PATH):\n",
    "    ### The csv was extracted from a tar.gz by function fetch_data() ### main choise\n",
    "    csv_path = os.path.join(data_path, \"Modelo_2023_Ver01.csv\")\n",
    "    return pd.read_csv(csv_path)\n",
    "    \n",
    "    ### if we want load from the original xlsx file ### slower than main choise\n",
    "    #xlsx_path = os.path.join(data_path, \"ModBD_2021_Ver01.xlsx\")\n",
    "    #wb = pd.read_excel(xlsx_path)\n",
    "    #return wb     \n",
    "    ### if we want generate a csv from the original xlsx file ### \n",
    "    #df = pd.DataFrame(wb)\n",
    "    #csv_path = os.path.join(data_path, \"ModBD_2021_Ver01.csv\")\n",
    "    #df.to_csv(csv_path,sep=',',index=False, encoding='utf-8')\n",
    "   \n"
   ]
  },
  {
   "cell_type": "markdown",
   "metadata": {},
   "source": [
    "## Take a Quick Look at the Data Structure"
   ]
  },
  {
   "cell_type": "code",
   "execution_count": 5,
   "metadata": {},
   "outputs": [
    {
     "data": {
      "text/html": [
       "<div>\n",
       "<style scoped>\n",
       "    .dataframe tbody tr th:only-of-type {\n",
       "        vertical-align: middle;\n",
       "    }\n",
       "\n",
       "    .dataframe tbody tr th {\n",
       "        vertical-align: top;\n",
       "    }\n",
       "\n",
       "    .dataframe thead th {\n",
       "        text-align: right;\n",
       "    }\n",
       "</style>\n",
       "<table border=\"1\" class=\"dataframe\">\n",
       "  <thead>\n",
       "    <tr style=\"text-align: right;\">\n",
       "      <th></th>\n",
       "      <th>NOMEEMPRESA</th>\n",
       "      <th>PORTE</th>\n",
       "      <th>MEI</th>\n",
       "      <th>CNPJ</th>\n",
       "      <th>DS_LOGRADOURO</th>\n",
       "      <th>DS_NUMERO</th>\n",
       "      <th>DS_COMPLEMENTO</th>\n",
       "      <th>NO_BAIRRO</th>\n",
       "      <th>NR_CEP</th>\n",
       "      <th>NO_MUNICIPIO</th>\n",
       "      <th>DS_ATIVIDADE</th>\n",
       "    </tr>\n",
       "  </thead>\n",
       "  <tbody>\n",
       "    <tr>\n",
       "      <th>0</th>\n",
       "      <td>NAME00000001</td>\n",
       "      <td>ME</td>\n",
       "      <td>S</td>\n",
       "      <td>36408656000100</td>\n",
       "      <td>RUA PIRACICABA</td>\n",
       "      <td>65</td>\n",
       "      <td>NaN</td>\n",
       "      <td>JARDIM MARILANDIA</td>\n",
       "      <td>29111480.0</td>\n",
       "      <td>VILA VELHA</td>\n",
       "      <td>COMÉRCIO VAREJISTA DE FERRAGENS E FERRAMENTAS</td>\n",
       "    </tr>\n",
       "    <tr>\n",
       "      <th>1</th>\n",
       "      <td>NAME00000002</td>\n",
       "      <td>ME</td>\n",
       "      <td>NaN</td>\n",
       "      <td>36408656000200</td>\n",
       "      <td>RUA EXPEDICIONARIO OSWALDO SAUDINO</td>\n",
       "      <td>149</td>\n",
       "      <td>ANDAR: 2°; BOX: 60</td>\n",
       "      <td>SANTA TEREZINHA II</td>\n",
       "      <td>29240000.0</td>\n",
       "      <td>ALFREDO CHAVES</td>\n",
       "      <td>REPRESENTANTES COMERCIAIS E AGENTES DO COMÉRCI...</td>\n",
       "    </tr>\n",
       "    <tr>\n",
       "      <th>2</th>\n",
       "      <td>NAME00000003</td>\n",
       "      <td>ME</td>\n",
       "      <td>NaN</td>\n",
       "      <td>36408656000300</td>\n",
       "      <td>RUA DR. ARLINDO SODRE</td>\n",
       "      <td>832</td>\n",
       "      <td>NaN</td>\n",
       "      <td>CENTRO</td>\n",
       "      <td>29930000.0</td>\n",
       "      <td>SÃO MATEUS</td>\n",
       "      <td>COMÉRCIO VAREJISTA DE TECIDOS</td>\n",
       "    </tr>\n",
       "    <tr>\n",
       "      <th>3</th>\n",
       "      <td>NAME00000004</td>\n",
       "      <td>ME</td>\n",
       "      <td>NaN</td>\n",
       "      <td>36408656000400</td>\n",
       "      <td>RUA PINHEIRO</td>\n",
       "      <td>36</td>\n",
       "      <td>QUADRA B8</td>\n",
       "      <td>NOVA VALVERDE</td>\n",
       "      <td>29156970.0</td>\n",
       "      <td>CARIACICA</td>\n",
       "      <td>COMÉRCIO VAREJISTA DE MATERIAIS DE CONSTRUÇÃO ...</td>\n",
       "    </tr>\n",
       "    <tr>\n",
       "      <th>4</th>\n",
       "      <td>NAME00000005</td>\n",
       "      <td>ME</td>\n",
       "      <td>NaN</td>\n",
       "      <td>36408656000500</td>\n",
       "      <td>RUA JERUZALEM</td>\n",
       "      <td>14</td>\n",
       "      <td>CX 3</td>\n",
       "      <td>CAMPO GRANDE</td>\n",
       "      <td>29146390.0</td>\n",
       "      <td>CARIACICA</td>\n",
       "      <td>COMÉRCIO ATACADISTA ESPECIALIZADO EM OUTROS PR...</td>\n",
       "    </tr>\n",
       "  </tbody>\n",
       "</table>\n",
       "</div>"
      ],
      "text/plain": [
       "    NOMEEMPRESA PORTE  MEI            CNPJ  \\\n",
       "0  NAME00000001    ME    S  36408656000100   \n",
       "1  NAME00000002    ME  NaN  36408656000200   \n",
       "2  NAME00000003    ME  NaN  36408656000300   \n",
       "3  NAME00000004    ME  NaN  36408656000400   \n",
       "4  NAME00000005    ME  NaN  36408656000500   \n",
       "\n",
       "                        DS_LOGRADOURO DS_NUMERO      DS_COMPLEMENTO  \\\n",
       "0                      RUA PIRACICABA        65                 NaN   \n",
       "1  RUA EXPEDICIONARIO OSWALDO SAUDINO       149  ANDAR: 2°; BOX: 60   \n",
       "2               RUA DR. ARLINDO SODRE       832                 NaN   \n",
       "3                        RUA PINHEIRO        36           QUADRA B8   \n",
       "4                       RUA JERUZALEM        14                CX 3   \n",
       "\n",
       "            NO_BAIRRO      NR_CEP    NO_MUNICIPIO  \\\n",
       "0   JARDIM MARILANDIA  29111480.0      VILA VELHA   \n",
       "1  SANTA TEREZINHA II  29240000.0  ALFREDO CHAVES   \n",
       "2              CENTRO  29930000.0      SÃO MATEUS   \n",
       "3       NOVA VALVERDE  29156970.0       CARIACICA   \n",
       "4        CAMPO GRANDE  29146390.0       CARIACICA   \n",
       "\n",
       "                                        DS_ATIVIDADE  \n",
       "0      COMÉRCIO VAREJISTA DE FERRAGENS E FERRAMENTAS  \n",
       "1  REPRESENTANTES COMERCIAIS E AGENTES DO COMÉRCI...  \n",
       "2                      COMÉRCIO VAREJISTA DE TECIDOS  \n",
       "3  COMÉRCIO VAREJISTA DE MATERIAIS DE CONSTRUÇÃO ...  \n",
       "4  COMÉRCIO ATACADISTA ESPECIALIZADO EM OUTROS PR...  "
      ]
     },
     "execution_count": 5,
     "metadata": {},
     "output_type": "execute_result"
    }
   ],
   "source": [
    "ModBD = load_data()\n",
    "ModBD.head()"
   ]
  },
  {
   "cell_type": "code",
   "execution_count": 6,
   "metadata": {},
   "outputs": [
    {
     "name": "stdout",
     "output_type": "stream",
     "text": [
      "(10000, 11)\n"
     ]
    }
   ],
   "source": [
    "print(ModBD.shape)"
   ]
  },
  {
   "cell_type": "code",
   "execution_count": 7,
   "metadata": {},
   "outputs": [
    {
     "name": "stdout",
     "output_type": "stream",
     "text": [
      "<class 'pandas.core.frame.DataFrame'>\n",
      "RangeIndex: 10000 entries, 0 to 9999\n",
      "Data columns (total 11 columns):\n",
      " #   Column          Non-Null Count  Dtype  \n",
      "---  ------          --------------  -----  \n",
      " 0   NOMEEMPRESA     10000 non-null  object \n",
      " 1   PORTE           10000 non-null  object \n",
      " 2   MEI             3434 non-null   object \n",
      " 3   CNPJ            10000 non-null  int64  \n",
      " 4   DS_LOGRADOURO   10000 non-null  object \n",
      " 5   DS_NUMERO       9911 non-null   object \n",
      " 6   DS_COMPLEMENTO  5088 non-null   object \n",
      " 7   NO_BAIRRO       9987 non-null   object \n",
      " 8   NR_CEP          9934 non-null   float64\n",
      " 9   NO_MUNICIPIO    10000 non-null  object \n",
      " 10  DS_ATIVIDADE    10000 non-null  object \n",
      "dtypes: float64(1), int64(1), object(9)\n",
      "memory usage: 859.5+ KB\n"
     ]
    }
   ],
   "source": [
    "ModBD.info()"
   ]
  },
  {
   "cell_type": "code",
   "execution_count": 8,
   "metadata": {},
   "outputs": [],
   "source": [
    "ModBD[\"CNPJ\"] = ModBD[\"CNPJ\"].astype(str)\n",
    "ModBD[\"NR_CEP\"] = ModBD[\"NR_CEP\"].astype(str)"
   ]
  },
  {
   "cell_type": "code",
   "execution_count": 9,
   "metadata": {},
   "outputs": [
    {
     "name": "stdout",
     "output_type": "stream",
     "text": [
      "<class 'pandas.core.frame.DataFrame'>\n",
      "RangeIndex: 10000 entries, 0 to 9999\n",
      "Data columns (total 11 columns):\n",
      " #   Column          Non-Null Count  Dtype \n",
      "---  ------          --------------  ----- \n",
      " 0   NOMEEMPRESA     10000 non-null  object\n",
      " 1   PORTE           10000 non-null  object\n",
      " 2   MEI             3434 non-null   object\n",
      " 3   CNPJ            10000 non-null  object\n",
      " 4   DS_LOGRADOURO   10000 non-null  object\n",
      " 5   DS_NUMERO       9911 non-null   object\n",
      " 6   DS_COMPLEMENTO  5088 non-null   object\n",
      " 7   NO_BAIRRO       9987 non-null   object\n",
      " 8   NR_CEP          10000 non-null  object\n",
      " 9   NO_MUNICIPIO    10000 non-null  object\n",
      " 10  DS_ATIVIDADE    10000 non-null  object\n",
      "dtypes: object(11)\n",
      "memory usage: 859.5+ KB\n"
     ]
    }
   ],
   "source": [
    "ModBD.info()"
   ]
  },
  {
   "cell_type": "code",
   "execution_count": 10,
   "metadata": {},
   "outputs": [
    {
     "name": "stdout",
     "output_type": "stream",
     "text": [
      "NOMEEMPRESA          0\n",
      "PORTE                0\n",
      "MEI               6566\n",
      "CNPJ                 0\n",
      "DS_LOGRADOURO        0\n",
      "DS_NUMERO           89\n",
      "DS_COMPLEMENTO    4912\n",
      "NO_BAIRRO           13\n",
      "NR_CEP               0\n",
      "NO_MUNICIPIO         0\n",
      "DS_ATIVIDADE         0\n",
      "dtype: int64\n",
      "\n",
      "Total de valore ausentes nos dados:\n",
      "11580\n"
     ]
    }
   ],
   "source": [
    "#Contando dados ausentes\n",
    "num_rows = ModBD.shape[0]\n",
    "num_missing = num_rows - ModBD.count()\n",
    "print(num_missing)\n",
    "print(\"\\nTotal de valore ausentes nos dados:\")\n",
    "print(np.count_nonzero(ModBD.isnull()))"
   ]
  },
  {
   "cell_type": "markdown",
   "metadata": {},
   "source": [
    "# Encontro de 24/03/2023\n",
    "\n",
    "## Preparação\n",
    "\n",
    "### Pergunta (1): Quero abrir uma atividade *x*, qual a localidade *y* mais promissora?\n",
    "\n",
    "### Pergunta (2): Quero abrir uma atividade na localidade *y*, qual a atividade *x* mais promissora?\n",
    "\n",
    "Considerando que o propósito original da implantação do conceito de MEI foi formalizar profissionais informais.\n",
    "Considerando que atualmente o propósito formal foi desvirtuado pelo mercado que, ao invés de assinar a carteira do trabalhador, prefere contratá-lo como MEI. Ou seja, um profissional que sempre foi formalizado, torna-se MEI por imposição do mercado (mais barato para o contratante, menos benefícios para o contratado):\n",
    "### Pergunta (3): Quero identificar MEIs que não atendem ao propósito original.\n",
    "\n",
    "\n",
    "#### Outras perguntas motivadoras: \n",
    "- Vale a pena construir padaria? Onde?\n",
    "- Montar fornecedor? Onde? Fornecedor de quê?\n",
    "- Atividades mais relevantes de uma região? Porque é mais relevante?\n",
    "- Porque mais pousadas em uma região?\n",
    "- Porque muitas lojas de móveis em Marechal Campos?\n",
    "- Por exemplo, novo hospital perto da Ceasa São Mateus. Posso mostrar potencial para empreendedor?\n",
    "- Oportunidades para negócios?\n",
    "\n",
    "## Dicussão\n",
    "\n",
    "O que aconteceu com um MEI após aberto. MEI abriu e fechou. Por quê?\n",
    "\n",
    "### Distribuição de atividades por bairro. Caracterizar bairros. Ver perfil de bairros em função das atividades (quantidade, densidade, proporcionalidade)\n",
    "Hierárquia de atividades.\n",
    "\n",
    "## Encaminhamentos\n",
    "\n",
    "(1) Fazer a disctribuição de atividades por bairro.\n",
    "\n",
    "(2) Criar classes de atividades (agrupar correlatas) diminuir quantidade de atividades\n",
    "\n",
    "(3) Agrupamento, bairros similares\n",
    "\n",
    "(4) Características sócio-econômicas de bairros\n"
   ]
  },
  {
   "cell_type": "code",
   "execution_count": 12,
   "metadata": {},
   "outputs": [
    {
     "name": "stdout",
     "output_type": "stream",
     "text": [
      "COMÉRCIO VAREJISTA DE ARTIGOS DO VESTUÁRIO E ACESSÓRIOS                                                                         691\n",
      "COMÉRCIO VAREJISTA DE MERCADORIAS EM GERAL, COM PREDOMINÂNCIA DE PRODUTOS ALIMENTÍCIOS - MINIMERCADOS, MERCEARIAS E ARMAZÉNS    399\n",
      "LANCHONETES, CASAS DE CHÁ, DE SUCOS E SIMILARES                                                                                 318\n",
      "RESTAURANTES E SIMILARES                                                                                                        317\n",
      "COMÉRCIO VAREJISTA DE MATERIAIS DE CONSTRUÇÃO EM GERAL                                                                          302\n",
      "                                                                                                                               ... \n",
      "PRODUÇÃO DE ARTEFATOS ESTAMPADOS DE METAL                                                                                         1\n",
      "COMÉRCIO ATACADISTA DE LIVROS, JORNAIS E OUTRAS PUBLICAÇÕES                                                                       1\n",
      "FABRICAÇÃO DE APARELHOS E UTENSÍLIOS PARA CORREÇÃO DE DEFEITOS FÍSICOS E APARELHOS ORTOPÉDICOS EM GERAL SOB ENCOMENDA             1\n",
      "FABRICAÇÃO DE APARELHOS FOTOGRÁFICOS E CINEMATOGRÁFICOS, PEÇAS E ACESSÓRIOS                                                       1\n",
      "Fabricação de alimentos dietéticos e complementos alimentares                                                                     1\n",
      "Name: DS_ATIVIDADE, Length: 724, dtype: int64\n",
      "datasets/Modelo/Atividades.csv\n"
     ]
    }
   ],
   "source": [
    "# Enviar para arquivo csv\n",
    "counts = ModBD[\"DS_ATIVIDADE\"].value_counts()\n",
    "print(counts)\n",
    "counts_path = os.path.join(DATA_PATH, \"Atividades.csv\")\n",
    "print(counts_path)\n",
    "counts.to_csv(counts_path, index=True, header=True, index_label = \"DS_ATIVIDADE\")"
   ]
  },
  {
   "cell_type": "code",
   "execution_count": null,
   "metadata": {},
   "outputs": [],
   "source": [
    "Ativ_Bairro = ModBD[[\"NO_MUNICIPIO\",\"NO_BAIRRO\",\"DS_ATIVIDADE\"]]\n",
    "\n",
    "\n",
    "### Somatorio das atividades em um bairro de um municipio\n",
    "# parameter <as_index=False> change the result of groupby from series (array) to dataframe (matrix)\n",
    "Group_Ativ_Bairro_SUM = Ativ_Bairro.groupby([\"NO_MUNICIPIO\",\"NO_BAIRRO\"],as_index=False)[\"DS_ATIVIDADE\"].nunique()\n",
    "# Enviar para arquivo csv\n",
    "Ativ_Bairro_SUM_path = os.path.join(DATA_PATH, \"Atividade_por_Bairro_Somatorio.csv\")\n",
    "Group_Ativ_Bairro_SUM.to_csv(Ativ_Bairro_SUM_path, index=True, header=True)\n",
    "\n",
    "### Somatorio de cada atividade em um bairro de um municipio\n",
    "Group_Ativ_Bairro = Ativ_Bairro.groupby([\"NO_MUNICIPIO\",\"NO_BAIRRO\"],as_index=False)[\"DS_ATIVIDADE\"].value_counts()\n",
    "Ativ_Bairro_path = os.path.join(DATA_PATH, \"Atividade_por_Bairro.csv\")\n",
    "Group_Ativ_Bairro.to_csv(Ativ_Bairro_path, index=True, header=True)#, index_label = [\"NO_MUNICIPIO\",\"NO_BAIRRO\"])\n",
    "#print(type(ModBD))\n",
    "#print(ModBD.shape)\n",
    "#print(type(Group_Ativ_Bairro))\n",
    "#print(Group_Ativ_Bairro.shape)\n",
    "#print(Group_Ativ_Bairro.index)\n",
    "#print(Group_Ativ_Bairro.values)\n",
    "#print(type(Group_Ativ_Bairro[\"NO_MUNICIPIO\"]))\n",
    "#print(Group_Ativ_Bairro)\n",
    "#print(Group_Ativ_Bairro[\"NO_MUNICIPIO\"])\n",
    "#print(Ativ_Bairro_path)\n",
    "\n",
    "# Fazendo conteudo linhas como index\n",
    "Group_Ativ_Bairro_pivot = Group_Ativ_Bairro.pivot(index = [\"NO_MUNICIPIO\",\"NO_BAIRRO\"] , columns=\"DS_ATIVIDADE\", values=\"count\")\n",
    "print(Group_Ativ_Bairro_pivot)\n",
    "Ativ_Bairro_pivot_path = os.path.join(DATA_PATH, \"Atividade_por_Bairro_pivot.csv\")\n",
    "Group_Ativ_Bairro_pivot.to_csv(Ativ_Bairro_pivot_path, index=True, header=True)#, index_label = [\"NO_MUNICIPIO\",\"NO_BAIRRO\"])"
   ]
  },
  {
   "cell_type": "markdown",
   "metadata": {},
   "source": [
    "# Encontro de 30/03/2023\n",
    "\n",
    "\n",
    "## Preparação\n",
    "\n",
    "\n",
    "# Encaminhamentos em aberto\n",
    "\n",
    "(1) Fazer a distribuição de atividades por bairro.\n",
    "Apresentar arquivos 'csv'\n",
    "\n",
    "(2) Criar classes de atividades (agrupar correlatas) diminuir quantidade de atividades\n",
    "Não realizado.\n",
    "Base de dados precisa ser normalizada, ou seja, verificar e alterar nomes de atividades definidas com strings diferentes (por exemplo, maiuscula/miniscula ou com/sem acentuação, etc)\n",
    "\n",
    "(3) Agrupamento, bairros similares\n",
    "Não realizado.\n",
    "Base de dados precisa ser normalizada, ou seja, verificar e alterar nomes de atividades definidas com strings diferentes (por exemplo, maiuscula/miniscula ou com/sem acentuação, etc)\n",
    "\n",
    "(4) Características sócio-econômicas de bairrosNão realizado.\n",
    "Não realizado.\n",
    "Preciso fazer busca internet.\n",
    "\n",
    "\n",
    " \n",
    "\n",
    "## Dicussão\n",
    "\n",
    "Após apresentação dos arquivos 'csv' foi notada e necessidade de normalizar a base. Usar distancia de strings para ientificar equivalências.\n",
    "\n",
    "## Encaminhamentos\n",
    "\n",
    "### Novos\n",
    "(1) Normalizar base.\n",
    "\n",
    "### Antigos\n",
    "\n",
    "(1) Criar classes de atividades (agrupar correlatas) diminuir quantidade de atividades\n",
    "\n",
    "(2) Agrupamento, bairros similares\n",
    "\n",
    "(3) Características sócio-econômicas de bairros\n",
    "\n",
    "\n"
   ]
  },
  {
   "cell_type": "code",
   "execution_count": null,
   "metadata": {},
   "outputs": [],
   "source": []
  }
 ],
 "metadata": {
  "kernelspec": {
   "display_name": "Python 3 (ipykernel)",
   "language": "python",
   "name": "python3"
  },
  "language_info": {
   "codemirror_mode": {
    "name": "ipython",
    "version": 3
   },
   "file_extension": ".py",
   "mimetype": "text/x-python",
   "name": "python",
   "nbconvert_exporter": "python",
   "pygments_lexer": "ipython3",
   "version": "3.11.2"
  },
  "nav_menu": {
   "height": "279px",
   "width": "309px"
  },
  "toc": {
   "nav_menu": {},
   "number_sections": true,
   "sideBar": true,
   "skip_h1_title": false,
   "toc_cell": false,
   "toc_position": {},
   "toc_section_display": "block",
   "toc_window_display": false
  }
 },
 "nbformat": 4,
 "nbformat_minor": 4
}
